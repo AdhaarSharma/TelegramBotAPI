{
 "cells": [
  {
   "cell_type": "code",
   "execution_count": 53,
   "id": "f4c0231a",
   "metadata": {},
   "outputs": [
    {
     "name": "stdout",
     "output_type": "stream",
     "text": [
      "{\"ok\":true,\"result\":[{\"update_id\":48530348,\n",
      "\"message\":{\"message_id\":4,\"from\":{\"id\":1487173804,\"is_bot\":false,\"first_name\":\"Adhaar\",\"last_name\":\"Sharma\",\"language_code\":\"en\"},\"chat\":{\"id\":-777737632,\"title\":\"NSE Fetch Bot\",\"type\":\"group\",\"all_members_are_administrators\":true},\"date\":1637074661,\"text\":\"Testing\"}},{\"update_id\":48530349,\n",
      "\"message\":{\"message_id\":6,\"from\":{\"id\":1487173804,\"is_bot\":false,\"first_name\":\"Adhaar\",\"last_name\":\"Sharma\",\"language_code\":\"en\"},\"chat\":{\"id\":-777737632,\"title\":\"NSE Fetch Bot\",\"type\":\"group\",\"all_members_are_administrators\":true},\"date\":1637077582,\"text\":\"State your purpose.\"}},{\"update_id\":48530350,\n",
      "\"message\":{\"message_id\":8,\"from\":{\"id\":1487173804,\"is_bot\":false,\"first_name\":\"Adhaar\",\"last_name\":\"Sharma\",\"language_code\":\"en\"},\"chat\":{\"id\":-777737632,\"title\":\"NSE Fetch Bot\",\"type\":\"group\",\"all_members_are_administrators\":true},\"date\":1637077618,\"text\":\"Cool.\"}},{\"update_id\":48530351,\n",
      "\"message\":{\"message_id\":10,\"from\":{\"id\":1487173804,\"is_bot\":false,\"first_name\":\"Adhaar\",\"last_name\":\"Sharma\",\"language_code\":\"en\"},\"chat\":{\"id\":-777737632,\"title\":\"NSE Fetch Bot\",\"type\":\"group\",\"all_members_are_administrators\":true},\"date\":1637078051,\"text\":\"It is beautiful indeed. Good work.\"}}]}\n"
     ]
    }
   ],
   "source": [
    "import requests\n",
    "\n",
    "resp = requests.get(\"https://api.telegram.org/bot2116923117:AAFccongYIN7CJwXcIjMbtidduE6IiYEFuM/getUpdates\")\n",
    "print(resp.text)"
   ]
  },
  {
   "cell_type": "markdown",
   "id": "bc8fa423",
   "metadata": {},
   "source": [
    "# Read Data from Groups"
   ]
  },
  {
   "cell_type": "code",
   "execution_count": 54,
   "id": "dd63457e",
   "metadata": {},
   "outputs": [
    {
     "name": "stdout",
     "output_type": "stream",
     "text": [
      "{\"ok\":true,\"result\":[{\"update_id\":48530348,\n",
      "\"message\":{\"message_id\":4,\"from\":{\"id\":1487173804,\"is_bot\":false,\"first_name\":\"Adhaar\",\"last_name\":\"Sharma\",\"language_code\":\"en\"},\"chat\":{\"id\":-777737632,\"title\":\"NSE Fetch Bot\",\"type\":\"group\",\"all_members_are_administrators\":true},\"date\":1637074661,\"text\":\"Testing\"}}]}\n"
     ]
    }
   ],
   "source": [
    "import requests\n",
    "\n",
    "resp = requests.get(\"https://api.telegram.org/bot2116923117:AAFccongYIN7CJwXcIjMbtidduE6IiYEFuM/getUpdates?offset=48530348&limit=1\")\n",
    "print(resp.text)"
   ]
  },
  {
   "cell_type": "code",
   "execution_count": 55,
   "id": "c9ce44ea",
   "metadata": {},
   "outputs": [
    {
     "name": "stdout",
     "output_type": "stream",
     "text": [
      "{\"ok\":true,\"result\":[{\"update_id\":48530348,\n",
      "\"message\":{\"message_id\":4,\"from\":{\"id\":1487173804,\"is_bot\":false,\"first_name\":\"Adhaar\",\"last_name\":\"Sharma\",\"language_code\":\"en\"},\"chat\":{\"id\":-777737632,\"title\":\"NSE Fetch Bot\",\"type\":\"group\",\"all_members_are_administrators\":true},\"date\":1637074661,\"text\":\"Testing\"}}]}\n"
     ]
    }
   ],
   "source": [
    "import requests\n",
    "\n",
    "base_url = \"https://api.telegram.org/bot2116923117:AAFccongYIN7CJwXcIjMbtidduE6IiYEFuM/getUpdates\"\n",
    "\n",
    "parameters = {\n",
    "    \"offset\" : \"48530348\",\n",
    "    \"limit\" : \"1\"\n",
    "}\n",
    "\n",
    "resp = requests.get(base_url, data = parameters)\n",
    "print(resp.text)"
   ]
  },
  {
   "cell_type": "markdown",
   "id": "768616f9",
   "metadata": {},
   "source": [
    "# Send Messages to Groups"
   ]
  },
  {
   "cell_type": "code",
   "execution_count": 56,
   "id": "c5758ad4",
   "metadata": {},
   "outputs": [],
   "source": [
    "import requests\n",
    "\n",
    "base_url = \"https://api.telegram.org/bot2116923117:AAFccongYIN7CJwXcIjMbtidduE6IiYEFuM/sendMessage\"\n",
    "\n",
    "parameters = {\n",
    "    \"chat_id\" : \"-777737632\",\n",
    "    \"text\" : \"Hi! I am NSE Fetch Bot!\"\n",
    "}\n",
    "\n",
    "resp = requests.get(base_url, data = parameters)"
   ]
  },
  {
   "cell_type": "markdown",
   "id": "bf96f6e4",
   "metadata": {},
   "source": [
    "# Send Photos to Groups"
   ]
  },
  {
   "cell_type": "code",
   "execution_count": 57,
   "id": "b46c0ca3",
   "metadata": {},
   "outputs": [],
   "source": [
    "import requests\n",
    "\n",
    "base_url = \"https://api.telegram.org/bot2116923117:AAFccongYIN7CJwXcIjMbtidduE6IiYEFuM/sendPhoto\"\n",
    "\n",
    "parameters = {\n",
    "    \"chat_id\" : \"-777737632\",\n",
    "    \"photo\" : \"https://unsplash.com/photos/1uwLmA5LFfg\",\n",
    "    \"caption\" : \"Beautiful Picture!\"\n",
    "}\n",
    "\n",
    "resp = requests.get(base_url, data = parameters)"
   ]
  },
  {
   "cell_type": "markdown",
   "id": "4cfb35b1",
   "metadata": {},
   "source": [
    "# Send Audio to Groups"
   ]
  },
  {
   "cell_type": "code",
   "execution_count": 58,
   "id": "7ba3d466",
   "metadata": {},
   "outputs": [],
   "source": [
    "import requests\n",
    "\n",
    "base_url = \"https://api.telegram.org/bot2116923117:AAFccongYIN7CJwXcIjMbtidduE6IiYEFuM/sendAudio\"\n",
    "\n",
    "parameters = {\n",
    "    \"chat_id\" : \"-777737632\",\n",
    "    \"audio\" : \"https://www.bensound.com/bensound-music/bensound-creativeminds.mp3\",\n",
    "    \"caption\" : \"Chill Music!\"\n",
    "}\n",
    "\n",
    "resp = requests.get(base_url, data = parameters)"
   ]
  },
  {
   "cell_type": "markdown",
   "id": "4dfd806f",
   "metadata": {},
   "source": [
    "# Bot to Automate Sending NSE Data to Group"
   ]
  },
  {
   "cell_type": "code",
   "execution_count": 59,
   "id": "0c7f3d3f",
   "metadata": {},
   "outputs": [
    {
     "name": "stdout",
     "output_type": "stream",
     "text": [
      "['NIFTY', 'FINNIFTY', 'BANKNIFTY']\n"
     ]
    }
   ],
   "source": [
    "from nsepython import *   \n",
    "print(indices)\n",
    "import datetime\n",
    "from pynse import *\n",
    "nse=Nse()"
   ]
  },
  {
   "cell_type": "code",
   "execution_count": 60,
   "id": "d653cd1f",
   "metadata": {},
   "outputs": [
    {
     "data": {
      "text/html": [
       "<div>\n",
       "<style scoped>\n",
       "    .dataframe tbody tr th:only-of-type {\n",
       "        vertical-align: middle;\n",
       "    }\n",
       "\n",
       "    .dataframe tbody tr th {\n",
       "        vertical-align: top;\n",
       "    }\n",
       "\n",
       "    .dataframe thead th {\n",
       "        text-align: right;\n",
       "    }\n",
       "</style>\n",
       "<table border=\"1\" class=\"dataframe\">\n",
       "  <thead>\n",
       "    <tr style=\"text-align: right;\">\n",
       "      <th></th>\n",
       "      <th>identifier</th>\n",
       "      <th>series</th>\n",
       "      <th>open</th>\n",
       "      <th>dayHigh</th>\n",
       "      <th>dayLow</th>\n",
       "      <th>lastPrice</th>\n",
       "      <th>previousClose</th>\n",
       "      <th>change</th>\n",
       "      <th>pChange</th>\n",
       "      <th>totalTradedVolume</th>\n",
       "    </tr>\n",
       "    <tr>\n",
       "      <th>symbol</th>\n",
       "      <th></th>\n",
       "      <th></th>\n",
       "      <th></th>\n",
       "      <th></th>\n",
       "      <th></th>\n",
       "      <th></th>\n",
       "      <th></th>\n",
       "      <th></th>\n",
       "      <th></th>\n",
       "      <th></th>\n",
       "    </tr>\n",
       "  </thead>\n",
       "  <tbody>\n",
       "    <tr>\n",
       "      <th>MARUTI</th>\n",
       "      <td></td>\n",
       "      <td>EQ</td>\n",
       "      <td>7545</td>\n",
       "      <td>8128.75</td>\n",
       "      <td>7535.05</td>\n",
       "      <td>8049.55</td>\n",
       "      <td>7503.1</td>\n",
       "      <td>546.45</td>\n",
       "      <td>7.28</td>\n",
       "      <td>2619355</td>\n",
       "    </tr>\n",
       "    <tr>\n",
       "      <th>MOTHERSUMI</th>\n",
       "      <td></td>\n",
       "      <td>EQ</td>\n",
       "      <td>235.7</td>\n",
       "      <td>254.8</td>\n",
       "      <td>235.05</td>\n",
       "      <td>249.5</td>\n",
       "      <td>235.4</td>\n",
       "      <td>14.10</td>\n",
       "      <td>5.99</td>\n",
       "      <td>34282014</td>\n",
       "    </tr>\n",
       "    <tr>\n",
       "      <th>CHAMBLFERT</th>\n",
       "      <td></td>\n",
       "      <td>EQ</td>\n",
       "      <td>358</td>\n",
       "      <td>381.7</td>\n",
       "      <td>354.2</td>\n",
       "      <td>375.9</td>\n",
       "      <td>356</td>\n",
       "      <td>19.90</td>\n",
       "      <td>5.59</td>\n",
       "      <td>5436783</td>\n",
       "    </tr>\n",
       "    <tr>\n",
       "      <th>BSOFT</th>\n",
       "      <td></td>\n",
       "      <td>EQ</td>\n",
       "      <td>422.3</td>\n",
       "      <td>448.8</td>\n",
       "      <td>419</td>\n",
       "      <td>439.9</td>\n",
       "      <td>420.55</td>\n",
       "      <td>19.35</td>\n",
       "      <td>4.60</td>\n",
       "      <td>5081677</td>\n",
       "    </tr>\n",
       "    <tr>\n",
       "      <th>COFORGE</th>\n",
       "      <td></td>\n",
       "      <td>EQ</td>\n",
       "      <td>5600</td>\n",
       "      <td>5874</td>\n",
       "      <td>5572</td>\n",
       "      <td>5745</td>\n",
       "      <td>5496.2</td>\n",
       "      <td>248.80</td>\n",
       "      <td>4.53</td>\n",
       "      <td>1651697</td>\n",
       "    </tr>\n",
       "    <tr>\n",
       "      <th>FSL</th>\n",
       "      <td></td>\n",
       "      <td>EQ</td>\n",
       "      <td>168</td>\n",
       "      <td>177.3</td>\n",
       "      <td>167.25</td>\n",
       "      <td>174.55</td>\n",
       "      <td>167.9</td>\n",
       "      <td>6.65</td>\n",
       "      <td>3.96</td>\n",
       "      <td>8361250</td>\n",
       "    </tr>\n",
       "    <tr>\n",
       "      <th>NAUKRI</th>\n",
       "      <td></td>\n",
       "      <td>EQ</td>\n",
       "      <td>6348</td>\n",
       "      <td>6580</td>\n",
       "      <td>6330</td>\n",
       "      <td>6530</td>\n",
       "      <td>6342.7</td>\n",
       "      <td>187.30</td>\n",
       "      <td>2.95</td>\n",
       "      <td>519430</td>\n",
       "    </tr>\n",
       "    <tr>\n",
       "      <th>TRENT</th>\n",
       "      <td></td>\n",
       "      <td>EQ</td>\n",
       "      <td>1146.7</td>\n",
       "      <td>1202.7</td>\n",
       "      <td>1141.25</td>\n",
       "      <td>1191.3</td>\n",
       "      <td>1157.2</td>\n",
       "      <td>34.10</td>\n",
       "      <td>2.95</td>\n",
       "      <td>1245041</td>\n",
       "    </tr>\n",
       "    <tr>\n",
       "      <th>M&amp;M</th>\n",
       "      <td></td>\n",
       "      <td>EQ</td>\n",
       "      <td>928.4</td>\n",
       "      <td>965.95</td>\n",
       "      <td>925.55</td>\n",
       "      <td>955</td>\n",
       "      <td>928.4</td>\n",
       "      <td>26.60</td>\n",
       "      <td>2.87</td>\n",
       "      <td>7368780</td>\n",
       "    </tr>\n",
       "    <tr>\n",
       "      <th>BHARATFORG</th>\n",
       "      <td></td>\n",
       "      <td>EQ</td>\n",
       "      <td>780</td>\n",
       "      <td>814</td>\n",
       "      <td>776.35</td>\n",
       "      <td>798.5</td>\n",
       "      <td>777.35</td>\n",
       "      <td>21.15</td>\n",
       "      <td>2.72</td>\n",
       "      <td>4019030</td>\n",
       "    </tr>\n",
       "  </tbody>\n",
       "</table>\n",
       "</div>"
      ],
      "text/plain": [
       "           identifier series    open  dayHigh   dayLow lastPrice  \\\n",
       "symbol                                                             \n",
       "MARUTI                    EQ    7545  8128.75  7535.05   8049.55   \n",
       "MOTHERSUMI                EQ   235.7    254.8   235.05     249.5   \n",
       "CHAMBLFERT                EQ     358    381.7    354.2     375.9   \n",
       "BSOFT                     EQ   422.3    448.8      419     439.9   \n",
       "COFORGE                   EQ    5600     5874     5572      5745   \n",
       "FSL                       EQ     168    177.3   167.25    174.55   \n",
       "NAUKRI                    EQ    6348     6580     6330      6530   \n",
       "TRENT                     EQ  1146.7   1202.7  1141.25    1191.3   \n",
       "M&M                       EQ   928.4   965.95   925.55       955   \n",
       "BHARATFORG                EQ     780      814   776.35     798.5   \n",
       "\n",
       "           previousClose  change  pChange  totalTradedVolume  \n",
       "symbol                                                        \n",
       "MARUTI            7503.1  546.45     7.28            2619355  \n",
       "MOTHERSUMI         235.4   14.10     5.99           34282014  \n",
       "CHAMBLFERT           356   19.90     5.59            5436783  \n",
       "BSOFT             420.55   19.35     4.60            5081677  \n",
       "COFORGE           5496.2  248.80     4.53            1651697  \n",
       "FSL                167.9    6.65     3.96            8361250  \n",
       "NAUKRI            6342.7  187.30     2.95             519430  \n",
       "TRENT             1157.2   34.10     2.95            1245041  \n",
       "M&M                928.4   26.60     2.87            7368780  \n",
       "BHARATFORG        777.35   21.15     2.72            4019030  "
      ]
     },
     "execution_count": 60,
     "metadata": {},
     "output_type": "execute_result"
    }
   ],
   "source": [
    "df7 = nse.top_gainers(index=IndexSymbol.FnO, length=10)\n",
    "df7"
   ]
  },
  {
   "cell_type": "code",
   "execution_count": 61,
   "id": "fe298aa8",
   "metadata": {},
   "outputs": [],
   "source": [
    "def export_csv(df):\n",
    "  with io.StringIO() as buffer:\n",
    "    df.to_csv(buffer)\n",
    "    return buffer.getvalue()"
   ]
  },
  {
   "cell_type": "code",
   "execution_count": 62,
   "id": "178b3745",
   "metadata": {},
   "outputs": [],
   "source": [
    "buffer = io.BytesIO()\n",
    "buffer.write(export_csv(df7).encode())\n",
    "buffer.seek(0)\n",
    "buffer.name = f'TopGainers.csv'"
   ]
  },
  {
   "cell_type": "code",
   "execution_count": 63,
   "id": "8cb4357c",
   "metadata": {},
   "outputs": [],
   "source": [
    "import requests\n",
    "\n",
    "base_url = \"https://api.telegram.org/bot2116923117:AAFccongYIN7CJwXcIjMbtidduE6IiYEFuM/sendDocument\"\n",
    "\n",
    "my_file = csv_file\n",
    "\n",
    "parameters = {\n",
    "    \"chat_id\" : \"-777737632\",\n",
    "    \"caption\" : \"Top Gainers!\"\n",
    "}\n",
    "\n",
    "files = {\n",
    "    \"document\" : buffer\n",
    "}\n",
    "\n",
    "resp = requests.get(base_url, data = parameters, files = files)"
   ]
  },
  {
   "cell_type": "code",
   "execution_count": null,
   "id": "4d4974bd",
   "metadata": {},
   "outputs": [],
   "source": []
  }
 ],
 "metadata": {
  "kernelspec": {
   "display_name": "Python 3 (ipykernel)",
   "language": "python",
   "name": "python3"
  },
  "language_info": {
   "codemirror_mode": {
    "name": "ipython",
    "version": 3
   },
   "file_extension": ".py",
   "mimetype": "text/x-python",
   "name": "python",
   "nbconvert_exporter": "python",
   "pygments_lexer": "ipython3",
   "version": "3.9.7"
  }
 },
 "nbformat": 4,
 "nbformat_minor": 5
}
