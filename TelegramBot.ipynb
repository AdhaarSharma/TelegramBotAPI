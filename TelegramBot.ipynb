{
 "cells": [
  {
   "cell_type": "code",
   "execution_count": 5,
   "id": "f4c0231a",
   "metadata": {},
   "outputs": [
    {
     "name": "stdout",
     "output_type": "stream",
     "text": [
      "{\"ok\":true,\"result\":[{\"update_id\":48530348,\n",
      "\"message\":{\"message_id\":4,\"from\":{\"id\":1487173804,\"is_bot\":false,\"first_name\":\"Adhaar\",\"last_name\":\"Sharma\",\"language_code\":\"en\"},\"chat\":{\"id\":-777737632,\"title\":\"NSE Fetch Bot\",\"type\":\"group\",\"all_members_are_administrators\":true},\"date\":1637074661,\"text\":\"Testing\"}}]}\n"
     ]
    }
   ],
   "source": [
    "import requests\n",
    "\n",
    "resp = requests.get(\"https://api.telegram.org/bot2116923117:AAFccongYIN7CJwXcIjMbtidduE6IiYEFuM/getUpdates\")\n",
    "print(resp.text)"
   ]
  },
  {
   "cell_type": "markdown",
   "id": "bc8fa423",
   "metadata": {},
   "source": [
    "# Read Data from Groups"
   ]
  },
  {
   "cell_type": "code",
   "execution_count": null,
   "id": "dd63457e",
   "metadata": {},
   "outputs": [],
   "source": [
    "import requests\n",
    "\n",
    "resp = requests.get(\"https://api.telegram.org/bot2116923117:AAFccongYIN7CJwXcIjMbtidduE6IiYEFuM/getUpdates?offset=48530348&limit=1\")\n",
    "print(resp.text)"
   ]
  },
  {
   "cell_type": "code",
   "execution_count": 9,
   "id": "c9ce44ea",
   "metadata": {},
   "outputs": [
    {
     "name": "stdout",
     "output_type": "stream",
     "text": [
      "{\"ok\":true,\"result\":[{\"update_id\":48530348,\n",
      "\"message\":{\"message_id\":4,\"from\":{\"id\":1487173804,\"is_bot\":false,\"first_name\":\"Adhaar\",\"last_name\":\"Sharma\",\"language_code\":\"en\"},\"chat\":{\"id\":-777737632,\"title\":\"NSE Fetch Bot\",\"type\":\"group\",\"all_members_are_administrators\":true},\"date\":1637074661,\"text\":\"Testing\"}}]}\n"
     ]
    }
   ],
   "source": [
    "import requests\n",
    "\n",
    "base_url = \"https://api.telegram.org/bot2116923117:AAFccongYIN7CJwXcIjMbtidduE6IiYEFuM/getUpdates\"\n",
    "\n",
    "parameters = {\n",
    "    \"offset\" : \"48530348\",\n",
    "    \"limit\" : \"1\"\n",
    "}\n",
    "\n",
    "resp = requests.get(base_url, data = parameters)\n",
    "print(resp.text)"
   ]
  },
  {
   "cell_type": "markdown",
   "id": "768616f9",
   "metadata": {},
   "source": [
    "# Send Messages to Groups"
   ]
  },
  {
   "cell_type": "code",
   "execution_count": 15,
   "id": "c5758ad4",
   "metadata": {},
   "outputs": [],
   "source": [
    "import requests\n",
    "\n",
    "base_url = \"https://api.telegram.org/bot2116923117:AAFccongYIN7CJwXcIjMbtidduE6IiYEFuM/sendMessage\"\n",
    "\n",
    "parameters = {\n",
    "    \"chat_id\" : \"-777737632\",\n",
    "    \"text\" : \"Hi! I am NSE Fetch Bot!\"\n",
    "}\n",
    "\n",
    "resp = requests.get(base_url, data = parameters)"
   ]
  },
  {
   "cell_type": "markdown",
   "id": "bf96f6e4",
   "metadata": {},
   "source": [
    "# Send Photos to Groups"
   ]
  },
  {
   "cell_type": "code",
   "execution_count": 16,
   "id": "b46c0ca3",
   "metadata": {},
   "outputs": [],
   "source": [
    "import requests\n",
    "\n",
    "base_url = \"https://api.telegram.org/bot2116923117:AAFccongYIN7CJwXcIjMbtidduE6IiYEFuM/sendPhoto\"\n",
    "\n",
    "parameters = {\n",
    "    \"chat_id\" : \"-777737632\",\n",
    "    \"photo\" : \"https://unsplash.com/photos/1uwLmA5LFfg\",\n",
    "    \"caption\" : \"Beautiful Picture!\"\n",
    "}\n",
    "\n",
    "resp = requests.get(base_url, data = parameters)"
   ]
  },
  {
   "cell_type": "markdown",
   "id": "4cfb35b1",
   "metadata": {},
   "source": [
    "# Send Audio to Groups"
   ]
  },
  {
   "cell_type": "code",
   "execution_count": 18,
   "id": "7ba3d466",
   "metadata": {},
   "outputs": [],
   "source": [
    "import requests\n",
    "\n",
    "base_url = \"https://api.telegram.org/bot2116923117:AAFccongYIN7CJwXcIjMbtidduE6IiYEFuM/sendAudio\"\n",
    "\n",
    "parameters = {\n",
    "    \"chat_id\" : \"-777737632\",\n",
    "    \"audio\" : \"https://www.bensound.com/bensound-music/bensound-creativeminds.mp3\",\n",
    "    \"caption\" : \"Chill Music!\"\n",
    "}\n",
    "\n",
    "resp = requests.get(base_url, data = parameters)"
   ]
  },
  {
   "cell_type": "code",
   "execution_count": null,
   "id": "1912285f",
   "metadata": {},
   "outputs": [],
   "source": []
  }
 ],
 "metadata": {
  "kernelspec": {
   "display_name": "Python 3 (ipykernel)",
   "language": "python",
   "name": "python3"
  },
  "language_info": {
   "codemirror_mode": {
    "name": "ipython",
    "version": 3
   },
   "file_extension": ".py",
   "mimetype": "text/x-python",
   "name": "python",
   "nbconvert_exporter": "python",
   "pygments_lexer": "ipython3",
   "version": "3.9.7"
  }
 },
 "nbformat": 4,
 "nbformat_minor": 5
}
